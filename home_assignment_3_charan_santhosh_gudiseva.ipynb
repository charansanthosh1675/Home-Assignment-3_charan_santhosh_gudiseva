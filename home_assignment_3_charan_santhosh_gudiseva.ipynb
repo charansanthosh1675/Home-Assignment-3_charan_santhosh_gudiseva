{
  "nbformat": 4,
  "nbformat_minor": 0,
  "metadata": {
    "colab": {
      "provenance": [],
      "authorship_tag": "ABX9TyPVgHamBBoxITQyqN6uSdx8",
      "include_colab_link": true
    },
    "kernelspec": {
      "name": "python3",
      "display_name": "Python 3"
    },
    "language_info": {
      "name": "python"
    }
  },
  "cells": [
    {
      "cell_type": "markdown",
      "metadata": {
        "id": "view-in-github",
        "colab_type": "text"
      },
      "source": [
        "<a href=\"https://colab.research.google.com/github/charansanthosh1675/Home-Assignment-3_charan_santhosh_gudiseva/blob/main/home_assignment_3_charan_santhosh_gudiseva.ipynb\" target=\"_parent\"><img src=\"https://colab.research.google.com/assets/colab-badge.svg\" alt=\"Open In Colab\"/></a>"
      ]
    },
    {
      "cell_type": "code",
      "execution_count": 18,
      "metadata": {
        "colab": {
          "base_uri": "https://localhost:8080/"
        },
        "id": "sOiZJjUQoim0",
        "outputId": "ddc3b4d0-0bfe-4c62-bd1d-9764b9eb016a"
      },
      "outputs": [
        {
          "output_type": "stream",
          "name": "stdout",
          "text": [
            "Epoch 1/10\n"
          ]
        },
        {
          "output_type": "stream",
          "name": "stderr",
          "text": [
            "/usr/local/lib/python3.11/dist-packages/keras/src/layers/rnn/rnn.py:200: UserWarning: Do not pass an `input_shape`/`input_dim` argument to a layer. When using Sequential models, prefer using an `Input(shape)` object as the first layer in the model instead.\n",
            "  super().__init__(**kwargs)\n"
          ]
        },
        {
          "output_type": "stream",
          "name": "stdout",
          "text": [
            "\u001b[1m4/4\u001b[0m \u001b[32m━━━━━━━━━━━━━━━━━━━━\u001b[0m\u001b[37m\u001b[0m \u001b[1m3s\u001b[0m 18ms/step - loss: 3.3426\n",
            "Epoch 2/10\n",
            "\u001b[1m4/4\u001b[0m \u001b[32m━━━━━━━━━━━━━━━━━━━━\u001b[0m\u001b[37m\u001b[0m \u001b[1m0s\u001b[0m 17ms/step - loss: 3.2782\n",
            "Epoch 3/10\n",
            "\u001b[1m4/4\u001b[0m \u001b[32m━━━━━━━━━━━━━━━━━━━━\u001b[0m\u001b[37m\u001b[0m \u001b[1m0s\u001b[0m 18ms/step - loss: 3.2253\n",
            "Epoch 4/10\n",
            "\u001b[1m4/4\u001b[0m \u001b[32m━━━━━━━━━━━━━━━━━━━━\u001b[0m\u001b[37m\u001b[0m \u001b[1m0s\u001b[0m 17ms/step - loss: 3.1376\n",
            "Epoch 5/10\n",
            "\u001b[1m4/4\u001b[0m \u001b[32m━━━━━━━━━━━━━━━━━━━━\u001b[0m\u001b[37m\u001b[0m \u001b[1m0s\u001b[0m 17ms/step - loss: 2.9647\n",
            "Epoch 6/10\n",
            "\u001b[1m4/4\u001b[0m \u001b[32m━━━━━━━━━━━━━━━━━━━━\u001b[0m\u001b[37m\u001b[0m \u001b[1m0s\u001b[0m 22ms/step - loss: 2.6528\n",
            "Epoch 7/10\n",
            "\u001b[1m4/4\u001b[0m \u001b[32m━━━━━━━━━━━━━━━━━━━━\u001b[0m\u001b[37m\u001b[0m \u001b[1m0s\u001b[0m 18ms/step - loss: 2.1675\n",
            "Epoch 8/10\n",
            "\u001b[1m4/4\u001b[0m \u001b[32m━━━━━━━━━━━━━━━━━━━━\u001b[0m\u001b[37m\u001b[0m \u001b[1m0s\u001b[0m 18ms/step - loss: 2.1792\n",
            "Epoch 9/10\n",
            "\u001b[1m4/4\u001b[0m \u001b[32m━━━━━━━━━━━━━━━━━━━━\u001b[0m\u001b[37m\u001b[0m \u001b[1m0s\u001b[0m 20ms/step - loss: 2.0539\n",
            "Epoch 10/10\n",
            "\u001b[1m4/4\u001b[0m \u001b[32m━━━━━━━━━━━━━━━━━━━━\u001b[0m\u001b[37m\u001b[0m \u001b[1m0s\u001b[0m 20ms/step - loss: 2.0380\n",
            "The Little Prince y  n --u-anu- -yn yruuni aenniuiraei -yninui ae eei-nair anii nrii  aneeen iien eiuv -ini-neii-uiiny\n"
          ]
        }
      ],
      "source": [
        "import numpy as np\n",
        "import tensorflow as tf\n",
        "from tensorflow.keras.models import Sequential\n",
        "from tensorflow.keras.layers import LSTM, Dense\n",
        "from tensorflow.keras.utils import to_categorical\n",
        "\n",
        "text = \"The Little Prince is a novella by Antoine de Saint-Exupéry.\"\n",
        "chars = sorted(set(text))\n",
        "char2idx = {c: i for i, c in enumerate(chars)}\n",
        "idx2char = {i: c for c, i in char2idx.items()}\n",
        "vocab_size = len(chars)\n",
        "\n",
        "seq_length = 20\n",
        "step = 3\n",
        "X, y = [], []\n",
        "for i in range(0, len(text) - seq_length, step):\n",
        "    seq = text[i:i + seq_length]\n",
        "    target = text[i + seq_length]\n",
        "    X.append([char2idx[c] for c in seq])\n",
        "    y.append(char2idx[target])\n",
        "\n",
        "X = to_categorical(X, num_classes=vocab_size)\n",
        "y = to_categorical(y, num_classes=vocab_size)\n",
        "\n",
        "model = Sequential([\n",
        "    LSTM(128, input_shape=(seq_length, vocab_size)),\n",
        "    Dense(vocab_size, activation='softmax')\n",
        "])\n",
        "model.compile(loss='categorical_crossentropy', optimizer='adam')\n",
        "model.fit(X, y, batch_size=4, epochs=10)\n",
        "\n",
        "def sample(preds, temperature=1.0):\n",
        "    preds = np.log(preds + 1e-10) / temperature\n",
        "    exp_preds = np.exp(preds)\n",
        "    preds = exp_preds / np.sum(exp_preds)\n",
        "    return np.random.choice(len(preds), p=preds)\n",
        "\n",
        "def generate_text(seed, length=100, temp=1.0):\n",
        "    result = seed\n",
        "    for _ in range(length):\n",
        "        x_pred = to_categorical([[char2idx.get(c, 0) for c in result[-seq_length:]]], num_classes=vocab_size)\n",
        "        pred = model.predict(x_pred, verbose=0)[0]\n",
        "        next_char = idx2char[sample(pred, temp)]\n",
        "        result += next_char\n",
        "    return result\n",
        "\n",
        "print(generate_text(\"The Little Prince \", 100, temp=0.8))\n"
      ]
    },
    {
      "cell_type": "code",
      "source": [
        "import nltk\n",
        "import re\n",
        "from nltk.corpus import stopwords\n",
        "from nltk.stem import PorterStemmer\n",
        "\n",
        "nltk.download('stopwords')\n",
        "\n",
        "def simple_tokenize(text):\n",
        "    return re.findall(r'\\b\\w+\\b', text)\n",
        "\n",
        "def preprocess(sentence):\n",
        "    tokens = simple_tokenize(sentence)\n",
        "    stop_words = set(stopwords.words('english'))\n",
        "    tokens_no_stop = [word for word in tokens if word.lower() not in stop_words]\n",
        "    stemmer = PorterStemmer()\n",
        "    stemmed = [stemmer.stem(word) for word in tokens_no_stop]\n",
        "\n",
        "    print(\"Original Tokens:\", tokens)\n",
        "    print(\"Without Stopwords:\", tokens_no_stop)\n",
        "    print(\"Stemmed:\", stemmed)\n",
        "\n",
        "preprocess(\"NLP techniques are used in virtual assistants like Alexa and Siri.\")\n"
      ],
      "metadata": {
        "colab": {
          "base_uri": "https://localhost:8080/"
        },
        "id": "p4ovqc8Lq5p7",
        "outputId": "cfc53ede-1bad-4bad-896d-be286073123e"
      },
      "execution_count": 19,
      "outputs": [
        {
          "output_type": "stream",
          "name": "stdout",
          "text": [
            "Original Tokens: ['NLP', 'techniques', 'are', 'used', 'in', 'virtual', 'assistants', 'like', 'Alexa', 'and', 'Siri']\n",
            "Without Stopwords: ['NLP', 'techniques', 'used', 'virtual', 'assistants', 'like', 'Alexa', 'Siri']\n",
            "Stemmed: ['nlp', 'techniqu', 'use', 'virtual', 'assist', 'like', 'alexa', 'siri']\n"
          ]
        },
        {
          "output_type": "stream",
          "name": "stderr",
          "text": [
            "[nltk_data] Downloading package stopwords to /root/nltk_data...\n",
            "[nltk_data]   Package stopwords is already up-to-date!\n"
          ]
        }
      ]
    },
    {
      "cell_type": "code",
      "source": [
        "import spacy\n",
        "nlp = spacy.load(\"en_core_web_sm\")\n",
        "\n",
        "sentence = \"Barack Obama served as the 44th President of the United States and won the Nobel Peace Prize in 2009.\"\n",
        "doc = nlp(sentence)\n",
        "\n",
        "for ent in doc.ents:\n",
        "    print(f\"Entity: {ent.text}, Label: {ent.label_}, Start: {ent.start_char}, End: {ent.end_char}\")\n"
      ],
      "metadata": {
        "colab": {
          "base_uri": "https://localhost:8080/"
        },
        "id": "SkcJ5aN9tCfU",
        "outputId": "d32fcc13-e68c-4ddd-c502-ddb36d8c241a"
      },
      "execution_count": 20,
      "outputs": [
        {
          "output_type": "stream",
          "name": "stdout",
          "text": [
            "Entity: Barack Obama, Label: PERSON, Start: 0, End: 12\n",
            "Entity: 44th, Label: ORDINAL, Start: 27, End: 31\n",
            "Entity: the United States, Label: GPE, Start: 45, End: 62\n",
            "Entity: the Nobel Peace Prize, Label: WORK_OF_ART, Start: 71, End: 92\n",
            "Entity: 2009, Label: DATE, Start: 96, End: 100\n"
          ]
        }
      ]
    },
    {
      "cell_type": "code",
      "source": [
        "import numpy as np\n",
        "from scipy.special import softmax\n",
        "\n",
        "def scaled_dot_product_attention(Q, K, V):\n",
        "    d_k = Q.shape[-1]\n",
        "    scores = np.dot(Q, K.T) / np.sqrt(d_k)\n",
        "    weights = softmax(scores, axis=1)\n",
        "    output = np.dot(weights, V)\n",
        "    print(\"Attention Weights:\\n\", weights)\n",
        "    print(\"Output:\\n\", output)\n",
        "\n",
        "Q = np.array([[1, 0, 1, 0], [0, 1, 0, 1]])\n",
        "K = np.array([[1, 0, 1, 0], [0, 1, 0, 1]])\n",
        "V = np.array([[1, 2, 3, 4], [5, 6, 7, 8]])\n",
        "\n",
        "scaled_dot_product_attention(Q, K, V)\n"
      ],
      "metadata": {
        "colab": {
          "base_uri": "https://localhost:8080/"
        },
        "id": "BB7hQYpktqKC",
        "outputId": "5e4f3e3c-020a-4353-dc2c-2356cd2f6322"
      },
      "execution_count": 21,
      "outputs": [
        {
          "output_type": "stream",
          "name": "stdout",
          "text": [
            "Attention Weights:\n",
            " [[0.73105858 0.26894142]\n",
            " [0.26894142 0.73105858]]\n",
            "Output:\n",
            " [[2.07576569 3.07576569 4.07576569 5.07576569]\n",
            " [3.92423431 4.92423431 5.92423431 6.92423431]]\n"
          ]
        }
      ]
    },
    {
      "cell_type": "code",
      "source": [
        "from transformers import pipeline\n",
        "classifier = pipeline(\"sentiment-analysis\")\n",
        "\n",
        "text = \"Despite the high price, the performance of the new MacBook is outstanding.\"\n",
        "result = classifier(text)[0]\n",
        "print(f\"Sentiment: {result['label']}\")\n",
        "print(f\"Confidence Score: {result['score']:.4f}\")\n"
      ],
      "metadata": {
        "colab": {
          "base_uri": "https://localhost:8080/"
        },
        "id": "4assbnxBuoxr",
        "outputId": "d0c3c45a-b467-4a4f-d095-1eb713e8eb13"
      },
      "execution_count": 22,
      "outputs": [
        {
          "output_type": "stream",
          "name": "stderr",
          "text": [
            "No model was supplied, defaulted to distilbert/distilbert-base-uncased-finetuned-sst-2-english and revision 714eb0f (https://huggingface.co/distilbert/distilbert-base-uncased-finetuned-sst-2-english).\n",
            "Using a pipeline without specifying a model name and revision in production is not recommended.\n",
            "Device set to use cpu\n"
          ]
        },
        {
          "output_type": "stream",
          "name": "stdout",
          "text": [
            "Sentiment: POSITIVE\n",
            "Confidence Score: 0.9998\n"
          ]
        }
      ]
    }
  ]
}